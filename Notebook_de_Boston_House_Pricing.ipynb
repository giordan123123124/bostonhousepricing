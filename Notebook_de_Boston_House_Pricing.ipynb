{
  "cells": [
    {
      "cell_type": "markdown",
      "metadata": {
        "id": "3z7kFP4ncoN8"
      },
      "source": [
        "# BOSTON HOUSE PRICING"
      ]
    },
    {
      "cell_type": "code",
      "execution_count": 7,
      "metadata": {
        "id": "QMaxGrNUcoN-"
      },
      "outputs": [
        {
          "ename": "ModuleNotFoundError",
          "evalue": "No module named 'pandas'",
          "output_type": "error",
          "traceback": [
            "\u001b[1;31m---------------------------------------------------------------------------\u001b[0m",
            "\u001b[1;31mModuleNotFoundError\u001b[0m                       Traceback (most recent call last)",
            "\u001b[1;32m~\\AppData\\Local\\Temp\\ipykernel_19152\\1252143363.py\u001b[0m in \u001b[0;36m<module>\u001b[1;34m\u001b[0m\n\u001b[1;32m----> 1\u001b[1;33m \u001b[1;32mimport\u001b[0m \u001b[0mpandas\u001b[0m \u001b[1;32mas\u001b[0m \u001b[0mpd\u001b[0m\u001b[1;33m\u001b[0m\u001b[0m\n\u001b[0m\u001b[0;32m      2\u001b[0m \u001b[1;32mimport\u001b[0m \u001b[0mnumpy\u001b[0m \u001b[1;32mas\u001b[0m \u001b[0mnp\u001b[0m\u001b[1;33m\u001b[0m\u001b[0m\n\u001b[0;32m      3\u001b[0m \u001b[1;32mimport\u001b[0m \u001b[0mmatplotlib\u001b[0m\u001b[1;33m.\u001b[0m\u001b[0mpyplot\u001b[0m \u001b[1;32mas\u001b[0m \u001b[0mplt\u001b[0m\u001b[1;33m\u001b[0m\u001b[0m\n\u001b[0;32m      4\u001b[0m \u001b[0mget_ipython\u001b[0m\u001b[1;33m(\u001b[0m\u001b[1;33m)\u001b[0m\u001b[1;33m.\u001b[0m\u001b[0mrun_line_magic\u001b[0m\u001b[1;33m(\u001b[0m\u001b[1;34m'matplotlib'\u001b[0m\u001b[1;33m,\u001b[0m \u001b[1;34m'inline'\u001b[0m\u001b[1;33m)\u001b[0m\u001b[1;33m\u001b[0m\u001b[0m\n\u001b[0;32m      5\u001b[0m \u001b[1;32mimport\u001b[0m \u001b[0mwarnings\u001b[0m\u001b[1;33m\u001b[0m\u001b[0m\n",
            "\u001b[1;31mModuleNotFoundError\u001b[0m: No module named 'pandas'"
          ]
        }
      ],
      "source": [
        "import pandas as pd\n",
        "import numpy as np\n",
        "import matplotlib.pyplot as plt\n",
        "%matplotlib inline\n",
        "import warnings\n",
        "warnings.filterwarnings('ignore')  #importamos librerias"
      ]
    },
    {
      "cell_type": "markdown",
      "metadata": {
        "id": "NTE5LTG6coOA"
      },
      "source": [
        "## Lets load the Boston House Pricing Dataset"
      ]
    },
    {
      "cell_type": "code",
      "execution_count": null,
      "metadata": {
        "id": "w-Mi3HRud22P"
      },
      "outputs": [],
      "source": [
        "from sklearn.datasets import fetch_openml\n",
        "\n",
        "boston = fetch_openml(name='boston')          #no me permitia importarlo, se hizo de esta manera\n",
        "data = boston['data']\n",
        "target = boston['target']\n",
        "\n"
      ]
    },
    {
      "cell_type": "code",
      "execution_count": null,
      "metadata": {
        "colab": {
          "base_uri": "https://localhost:8080/"
        },
        "id": "zQy8G-FkcoOB",
        "outputId": "7c27fcfa-7af8-4ba4-9cf1-65a91047b90d"
      },
      "outputs": [],
      "source": [
        "boston.keys()"
      ]
    },
    {
      "cell_type": "code",
      "execution_count": null,
      "metadata": {
        "colab": {
          "base_uri": "https://localhost:8080/"
        },
        "id": "woVAF2x8coOC",
        "outputId": "e9671eb6-4dd5-4626-f1fc-cd7b361e8a55"
      },
      "outputs": [],
      "source": [
        "## Lets check the description of the dataset\n",
        "boston = fetch_openml(name='boston')\n",
        "\n",
        "\n",
        "print(boston['DESCR'])\n",
        "\n",
        "#observamos la descripcion"
      ]
    },
    {
      "cell_type": "code",
      "execution_count": null,
      "metadata": {
        "colab": {
          "base_uri": "https://localhost:8080/"
        },
        "id": "KS7R0wQMcoOC",
        "outputId": "e82fcce5-91e8-4eb7-fa64-3bf4b9200f1d"
      },
      "outputs": [],
      "source": [
        "print(boston.data)"
      ]
    },
    {
      "cell_type": "code",
      "execution_count": null,
      "metadata": {
        "colab": {
          "base_uri": "https://localhost:8080/"
        },
        "id": "OYXD1vXdlFnW",
        "outputId": "66ca59ce-81a4-4d2e-ea98-ef02977a0ebc"
      },
      "outputs": [],
      "source": [
        "print(boston.data) #visualizmos la data"
      ]
    },
    {
      "cell_type": "code",
      "execution_count": null,
      "metadata": {
        "colab": {
          "base_uri": "https://localhost:8080/"
        },
        "id": "nowGfykwcoOC",
        "outputId": "10c54c1c-f34e-4784-ba5a-2b40401c00d2"
      },
      "outputs": [],
      "source": [
        "print(boston.target)"
      ]
    },
    {
      "cell_type": "code",
      "execution_count": null,
      "metadata": {
        "colab": {
          "base_uri": "https://localhost:8080/"
        },
        "id": "U3UnU0F0coOD",
        "outputId": "4366ca9b-95f9-4790-9589-c3c81f57fd36"
      },
      "outputs": [],
      "source": [
        "print(boston.feature_names)"
      ]
    },
    {
      "cell_type": "markdown",
      "metadata": {
        "id": "5-qSXzgvcoOD"
      },
      "source": [
        "## Preparing The Dataset"
      ]
    },
    {
      "cell_type": "code",
      "execution_count": null,
      "metadata": {
        "id": "LyYxbAFicoOD"
      },
      "outputs": [],
      "source": [
        "dataset = pd.DataFrame(boston.data,columns=boston.feature_names)"
      ]
    },
    {
      "cell_type": "code",
      "execution_count": null,
      "metadata": {
        "colab": {
          "base_uri": "https://localhost:8080/",
          "height": 206
        },
        "id": "Xr5AkK5vcoOD",
        "outputId": "0d58e789-eeef-4aeb-a42e-4f3faeb61af8"
      },
      "outputs": [],
      "source": [
        "dataset.head()"
      ]
    },
    {
      "cell_type": "code",
      "execution_count": null,
      "metadata": {
        "id": "shPZ2OpncoOD"
      },
      "outputs": [],
      "source": [
        "dataset['Price']=boston.target"
      ]
    },
    {
      "cell_type": "code",
      "execution_count": null,
      "metadata": {
        "colab": {
          "base_uri": "https://localhost:8080/",
          "height": 206
        },
        "id": "O01-OFfVcoOE",
        "outputId": "d1742f0c-3e9e-4fc8-8aa3-933b0da2feeb"
      },
      "outputs": [],
      "source": [
        "dataset.head()"
      ]
    },
    {
      "cell_type": "code",
      "execution_count": null,
      "metadata": {
        "colab": {
          "base_uri": "https://localhost:8080/"
        },
        "id": "3hGrrVZZcoOE",
        "outputId": "2d41cc04-14fb-4c99-fe28-738803786bfa"
      },
      "outputs": [],
      "source": [
        "dataset.info()"
      ]
    },
    {
      "cell_type": "code",
      "execution_count": null,
      "metadata": {
        "colab": {
          "base_uri": "https://localhost:8080/",
          "height": 300
        },
        "id": "5YFRzyB0coOE",
        "outputId": "706b9dc5-68eb-4d50-f003-38bc2a844598"
      },
      "outputs": [],
      "source": [
        "## Summarizing The Stats of the data\n",
        "dataset.describe()"
      ]
    },
    {
      "cell_type": "code",
      "execution_count": null,
      "metadata": {
        "colab": {
          "base_uri": "https://localhost:8080/"
        },
        "id": "HVkXWTpncoOF",
        "outputId": "81dcc802-58a6-4790-fedb-3d19a65372d3"
      },
      "outputs": [],
      "source": [
        "## Check the missing Values\n",
        "dataset.isnull().sum()"
      ]
    },
    {
      "cell_type": "code",
      "execution_count": null,
      "metadata": {
        "colab": {
          "base_uri": "https://localhost:8080/",
          "height": 425
        },
        "id": "LdqUtAY4coOG",
        "outputId": "80d53718-22ce-4599-b222-d98d583811a6"
      },
      "outputs": [],
      "source": [
        "### EXploratory Data Analysis\n",
        "## Correlation\n",
        "dataset.corr()"
      ]
    },
    {
      "cell_type": "code",
      "execution_count": null,
      "metadata": {
        "colab": {
          "base_uri": "https://localhost:8080/",
          "height": 1000
        },
        "id": "e2T5mz6RcoOG",
        "outputId": "17646680-4ce6-4425-ca81-b2ac37872412"
      },
      "outputs": [],
      "source": [
        "import seaborn as sns\n",
        "sns.pairplot(dataset)"
      ]
    },
    {
      "cell_type": "markdown",
      "metadata": {
        "id": "_rR9SnAIcoOG"
      },
      "source": [
        "## Analyzing The Correlated Features"
      ]
    },
    {
      "cell_type": "code",
      "execution_count": null,
      "metadata": {
        "colab": {
          "base_uri": "https://localhost:8080/",
          "height": 425
        },
        "id": "NJMn5gqOcoOG",
        "outputId": "a72a8bf3-c1bc-4c54-bf7c-cb8b1536d250"
      },
      "outputs": [],
      "source": [
        "dataset.corr()"
      ]
    },
    {
      "cell_type": "code",
      "execution_count": null,
      "metadata": {
        "colab": {
          "base_uri": "https://localhost:8080/",
          "height": 296
        },
        "id": "MaUFeNX2coOH",
        "outputId": "929a7068-ab15-4b9a-8480-6a3428cfdec4"
      },
      "outputs": [],
      "source": [
        "plt.scatter(dataset['CRIM'],dataset['Price'])\n",
        "plt.xlabel(\"Crime Rate\")                        #sugiere que los precios de las casas tienden a disminuir a medida que aumenta la tasa de criminalidad en el área.\n",
        "plt.ylabel(\"Price\")"
      ]
    },
    {
      "cell_type": "code",
      "execution_count": null,
      "metadata": {
        "colab": {
          "base_uri": "https://localhost:8080/",
          "height": 296
        },
        "id": "W0m3NtVGcoOH",
        "outputId": "25a5fe29-dd1a-4461-9a0c-38045870eec0"
      },
      "outputs": [],
      "source": [
        "plt.scatter(dataset['RM'],dataset['Price'])\n",
        "plt.xlabel(\"RM\") # average number of rooms per dwelling\n",
        "plt.ylabel(\"Price\")   #a medida que el número promedio de habitaciones por vivienda aumenta, el precio medio de las viviendas también aumenta"
      ]
    },
    {
      "cell_type": "code",
      "execution_count": null,
      "metadata": {
        "colab": {
          "base_uri": "https://localhost:8080/",
          "height": 296
        },
        "id": "vbIV0vg_coOH",
        "outputId": "9f37acf6-9f21-4aee-9d82-1aa184818b68"
      },
      "outputs": [],
      "source": [
        "import seaborn as sns\n",
        "sns.regplot(x=\"RM\",y=\"Price\",data=dataset)"
      ]
    },
    {
      "cell_type": "code",
      "execution_count": null,
      "metadata": {
        "colab": {
          "base_uri": "https://localhost:8080/",
          "height": 296
        },
        "id": "pzVeZX6rcoOH",
        "outputId": "9ff9bff7-32d1-4c2f-bf3e-0d696d5092ab"
      },
      "outputs": [],
      "source": [
        "sns.regplot(x=\"LSTAT\",y=\"Price\",data=dataset) # % lower status of the population   A medida que el porcentaje de la población de \"estatus más bajo\" aumenta, el precio de la vivienda disminuye"
      ]
    },
    {
      "cell_type": "code",
      "execution_count": null,
      "metadata": {
        "colab": {
          "base_uri": "https://localhost:8080/",
          "height": 296
        },
        "id": "g0FytL0lcoOH",
        "outputId": "a06024e3-68cc-4ffc-8252-d69325342732"
      },
      "outputs": [],
      "source": [
        "sns.barplot(x=dataset['RAD'], y=dataset['Price'])\n",
        "plt.xlabel(\"RAD\")\n",
        "plt.ylabel(\"Price\") #Esto sugiere que la accesibilidad a las autopistas radiales puede ser un\n",
        "                      #factor importante en la determinación del valor de la propiedad en Boston."
      ]
    },
    {
      "cell_type": "code",
      "execution_count": null,
      "metadata": {
        "colab": {
          "base_uri": "https://localhost:8080/",
          "height": 296
        },
        "id": "cbdO4AHycoOH",
        "outputId": "4574c81b-166d-43ee-8657-b1a83d740c6f"
      },
      "outputs": [],
      "source": [
        "sns.regplot(x=\"PTRATIO\",y=\"Price\",data=dataset) #pupil-teacher ratio by town"
      ]
    },
    {
      "cell_type": "code",
      "execution_count": null,
      "metadata": {
        "id": "GmJjeUcJcoOI"
      },
      "outputs": [],
      "source": [
        "## Independent and Dependent features\n",
        "\n",
        "X = dataset.iloc[:,:-1]   # todas las variables menos Precio, estas independientes\n",
        "y = dataset.iloc[:,-1]    #Solo precio en esta caso la depnditente"
      ]
    },
    {
      "cell_type": "code",
      "execution_count": null,
      "metadata": {
        "colab": {
          "base_uri": "https://localhost:8080/",
          "height": 206
        },
        "id": "8mWPHz69coOI",
        "outputId": "ff71fe70-4dc2-4b04-b748-6e91c35afd21"
      },
      "outputs": [],
      "source": [
        "X.head() #mostramos los X"
      ]
    },
    {
      "cell_type": "code",
      "execution_count": null,
      "metadata": {
        "colab": {
          "base_uri": "https://localhost:8080/"
        },
        "id": "I6qnEZ7AcoOI",
        "outputId": "7a76ba36-9a0a-41ef-f0a5-ef97f86d0116"
      },
      "outputs": [],
      "source": [
        "y #show y"
      ]
    },
    {
      "cell_type": "code",
      "execution_count": null,
      "metadata": {
        "id": "o2blCigMcoOI"
      },
      "outputs": [],
      "source": [
        "##Train Test Split\n",
        "from sklearn.model_selection import train_test_split   #en este caso entrenamos con train al 30 y el otro 70 para las pruevavs, con 42 para que salga el valor siempre\n",
        "X_train,X_test,y_train,y_test=train_test_split(X,y,test_size=0.3,random_state=42)"
      ]
    },
    {
      "cell_type": "code",
      "execution_count": null,
      "metadata": {
        "colab": {
          "base_uri": "https://localhost:8080/",
          "height": 143
        },
        "id": "ieqJ9YN5coOI",
        "outputId": "ab0712ee-8b2a-4db2-91c9-55d436a216e2"
      },
      "outputs": [],
      "source": [
        "X_train.head(3) #mostrar los primeros 3"
      ]
    },
    {
      "cell_type": "code",
      "execution_count": null,
      "metadata": {
        "colab": {
          "base_uri": "https://localhost:8080/",
          "height": 143
        },
        "id": "0qMNRQibcoOI",
        "outputId": "4c63effc-4848-4c1b-8f97-56c1fdb71235"
      },
      "outputs": [],
      "source": [
        "X_test.head(3)"
      ]
    },
    {
      "cell_type": "code",
      "execution_count": null,
      "metadata": {
        "id": "YN4CH-KYcoOJ"
      },
      "outputs": [],
      "source": [
        "## Standardize the dataset\n",
        "from sklearn.preprocessing import StandardScaler   #escala los datos para que esten en la misma escala y distribucion\n",
        "scaler=StandardScaler()"
      ]
    },
    {
      "cell_type": "code",
      "execution_count": null,
      "metadata": {
        "id": "T1M-T2wEcoOJ"
      },
      "outputs": [],
      "source": [
        "X_train_scalado =scaler.fit_transform(X_train) # dar una media de cero y desviacion en 1 asi mejorar el rendimiento dle modelo"
      ]
    },
    {
      "cell_type": "code",
      "execution_count": null,
      "metadata": {
        "id": "0dQgw5otcoOJ"
      },
      "outputs": [],
      "source": [
        "X_test_scalado =scaler.transform(X_test) #dar normalizacion"
      ]
    },
    {
      "cell_type": "code",
      "execution_count": null,
      "metadata": {
        "id": "a-vAZJVIcoOJ"
      },
      "outputs": [],
      "source": [
        "import pickle\n",
        "pickle.dump(scaler,open('scaling.pkl','wb')) #guardar los datos"
      ]
    },
    {
      "cell_type": "code",
      "execution_count": null,
      "metadata": {
        "colab": {
          "base_uri": "https://localhost:8080/",
          "height": 423
        },
        "id": "YLTajpExcoOJ",
        "outputId": "0e3dee2e-a4e6-4a7b-b3c7-d76aa009051d"
      },
      "outputs": [],
      "source": [
        "X_train"
      ]
    },
    {
      "cell_type": "code",
      "execution_count": null,
      "metadata": {
        "colab": {
          "base_uri": "https://localhost:8080/",
          "height": 423
        },
        "id": "IHCukemWcoOJ",
        "outputId": "403f6d91-6100-44bb-eacd-b024419e127a"
      },
      "outputs": [],
      "source": [
        "X_test"
      ]
    },
    {
      "cell_type": "markdown",
      "metadata": {
        "id": "o1ou47tZcoOK"
      },
      "source": [
        "## Model Training"
      ]
    },
    {
      "cell_type": "code",
      "execution_count": null,
      "metadata": {
        "id": "ztKwXcaTcoOK"
      },
      "outputs": [],
      "source": [
        "from sklearn.linear_model import LinearRegression #importamos para un modelo lineal"
      ]
    },
    {
      "cell_type": "code",
      "execution_count": null,
      "metadata": {
        "id": "2Bj49f2YcoOK"
      },
      "outputs": [],
      "source": [
        "regression = LinearRegression()"
      ]
    },
    {
      "cell_type": "code",
      "execution_count": null,
      "metadata": {
        "colab": {
          "base_uri": "https://localhost:8080/",
          "height": 74
        },
        "id": "irtafdEBcoOK",
        "outputId": "d5a7d9f6-d880-4132-a8aa-7281505ae758"
      },
      "outputs": [],
      "source": [
        "regression.fit(X_train,y_train) #en este caso podemos usarlo para hacer predcciones "
      ]
    },
    {
      "cell_type": "code",
      "execution_count": null,
      "metadata": {
        "colab": {
          "base_uri": "https://localhost:8080/"
        },
        "id": "y5f6YtPUcoOK",
        "outputId": "ff7c12e5-baa1-4b63-ce42-8fd13db972da"
      },
      "outputs": [],
      "source": [
        "## print the coefficients and the intercept\n",
        "print(regression.coef_) #en este caso vemos las variables independientes si es positivo o negativo indicando asi su cambio"
      ]
    },
    {
      "cell_type": "code",
      "execution_count": null,
      "metadata": {
        "colab": {
          "base_uri": "https://localhost:8080/"
        },
        "id": "qx_f5EfRcoOK",
        "outputId": "1409b3df-1a90-469b-b16e-c772d4ea9ca0"
      },
      "outputs": [],
      "source": [
        "print(regression.intercept_) #el valor de la casa cuando todo los otros valores son 0"
      ]
    },
    {
      "cell_type": "code",
      "execution_count": null,
      "metadata": {
        "colab": {
          "base_uri": "https://localhost:8080/"
        },
        "id": "LXTgTc46coOL",
        "outputId": "5f3440c2-eb9a-4716-9797-a5c16d91df00"
      },
      "outputs": [],
      "source": [
        "## on which parameters the model has been trained\n",
        "regression.get_params()"
      ]
    },
    {
      "cell_type": "code",
      "execution_count": null,
      "metadata": {
        "colab": {
          "base_uri": "https://localhost:8080/"
        },
        "id": "4b7oIBX2tXvB",
        "outputId": "710adb82-1741-44f0-f0a7-c4c446698381"
      },
      "outputs": [],
      "source": [
        "print(X_test.shape)"
      ]
    },
    {
      "cell_type": "code",
      "execution_count": null,
      "metadata": {
        "colab": {
          "base_uri": "https://localhost:8080/"
        },
        "id": "kfh6sJGBtY_d",
        "outputId": "a49f8304-4e4d-47d7-b565-392306cb539f"
      },
      "outputs": [],
      "source": [
        "print(X_train.shape)"
      ]
    },
    {
      "cell_type": "code",
      "execution_count": null,
      "metadata": {
        "colab": {
          "base_uri": "https://localhost:8080/",
          "height": 571
        },
        "id": "tEKSCJfNcoOL",
        "outputId": "06a587cb-e57a-4f18-b83d-36ae9536f26c"
      },
      "outputs": [],
      "source": [
        "### Prediction With Test Data\n",
        "reg_pred = regression.predict(X_test)"
      ]
    },
    {
      "cell_type": "code",
      "execution_count": null,
      "metadata": {
        "colab": {
          "base_uri": "https://localhost:8080/",
          "height": 165
        },
        "id": "14zlrPcCcoOL",
        "outputId": "98001e1f-6ae3-4bc8-f507-54ec6fc7cd0d"
      },
      "outputs": [],
      "source": [
        "reg_pred"
      ]
    },
    {
      "cell_type": "markdown",
      "metadata": {
        "id": "kp4RYeR1coOL"
      },
      "source": [
        "## Assumptions"
      ]
    },
    {
      "cell_type": "code",
      "execution_count": null,
      "metadata": {
        "colab": {
          "base_uri": "https://localhost:8080/",
          "height": 183
        },
        "id": "gFU2fye-coOM",
        "outputId": "8b7dba9e-c850-4656-a2b7-3502d621e14b"
      },
      "outputs": [],
      "source": [
        "## plot a scatter plot for the prediction\n",
        "plt.scatter(y_test,reg_pred)"
      ]
    },
    {
      "cell_type": "code",
      "execution_count": null,
      "metadata": {
        "id": "FU6g11bqcoOM"
      },
      "outputs": [],
      "source": [
        "## Residuals\n",
        "residuals=y_test-reg_pred"
      ]
    },
    {
      "cell_type": "code",
      "execution_count": null,
      "metadata": {
        "id": "-QQO6bFQcoOM",
        "outputId": "0dd6a421-a706-4ce8-ef8d-4c52aae421d6"
      },
      "outputs": [],
      "source": [
        "residuals"
      ]
    },
    {
      "cell_type": "code",
      "execution_count": null,
      "metadata": {
        "id": "2ODigRlScoOM",
        "outputId": "aded258b-f5ff-4a1e-ee20-7f90ac0b8fc4"
      },
      "outputs": [],
      "source": [
        "## Plot this residuals \n",
        "\n",
        "sns.displot(residuals,kind=\"kde\")"
      ]
    },
    {
      "cell_type": "code",
      "execution_count": null,
      "metadata": {
        "id": "3EFy8Ol3coOM",
        "outputId": "97b8e958-3218-4681-93b1-5a793644855d"
      },
      "outputs": [],
      "source": [
        "## Scatter plot with respect to prediction and residuals\n",
        "## uniform distribution\n",
        "plt.scatter(reg_pred,residuals)"
      ]
    },
    {
      "cell_type": "code",
      "execution_count": null,
      "metadata": {
        "id": "H4t4fnP0coON",
        "outputId": "4be7d65f-a3bb-4567-9b25-5365217685e3"
      },
      "outputs": [],
      "source": [
        "from sklearn.metrics import mean_squared_error\n",
        "from sklearn.metrics import mean_absolute_error\n",
        "\n",
        "print(mean_absolute_error(y_test,reg_pred))\n",
        "print(mean_squared_error(y_test,reg_pred))\n",
        "print(np.sqrt(mean_squared_error(y_test,reg_pred)))"
      ]
    },
    {
      "cell_type": "markdown",
      "metadata": {
        "id": "Hr_CzAQkcoON"
      },
      "source": [
        "## R square and adjusted R square"
      ]
    },
    {
      "cell_type": "markdown",
      "metadata": {
        "id": "3Y32RaN5coON"
      },
      "source": [
        "\n",
        "Formula\n",
        "\n",
        "**R^2 = 1 - SSR/SST**\n",
        "\n",
        "\n",
        "R^2\t=\tcoefficient of determination\n",
        "SSR\t=\tsum of squares of residuals\n",
        "SST\t=\ttotal sum of squares\n"
      ]
    },
    {
      "cell_type": "code",
      "execution_count": null,
      "metadata": {
        "id": "bRJnUaIecoOO",
        "outputId": "cdff6717-bfd9-4bcb-df9e-cc28d1e6448a"
      },
      "outputs": [],
      "source": [
        "from sklearn.metrics import r2_score\n",
        "score=r2_score(y_test,reg_pred)\n",
        "print(score)"
      ]
    },
    {
      "cell_type": "code",
      "execution_count": null,
      "metadata": {
        "id": "3KSPKYvicoOO"
      },
      "outputs": [],
      "source": []
    },
    {
      "cell_type": "markdown",
      "metadata": {
        "id": "ul57v3KZcoOP"
      },
      "source": [
        "**Adjusted R2 = 1 – [(1-R2)*(n-1)/(n-k-1)]**\n",
        "\n",
        "where:\n",
        "\n",
        "R2: The R2 of the model\n",
        "n: The number of observations\n",
        "k: The number of predictor variables"
      ]
    },
    {
      "cell_type": "code",
      "execution_count": null,
      "metadata": {
        "id": "3t8KYV86coOP",
        "outputId": "892089f0-a1d3-47df-e609-0e35c370f9fc"
      },
      "outputs": [],
      "source": [
        "#display adjusted R-squared\n",
        "1 - (1-score)*(len(y_test)-1)/(len(y_test)-X_test.shape[1]-1)"
      ]
    },
    {
      "cell_type": "markdown",
      "metadata": {
        "id": "4OYKDXw-coOP"
      },
      "source": [
        "## New Data Prediction"
      ]
    },
    {
      "cell_type": "code",
      "execution_count": null,
      "metadata": {
        "id": "MfHBa1_7coOR",
        "outputId": "f85b79e9-fbbf-40dd-bd27-517b2793d750"
      },
      "outputs": [],
      "source": [
        "boston.data[0].reshape(1,-1)"
      ]
    },
    {
      "cell_type": "code",
      "execution_count": null,
      "metadata": {
        "id": "kZiO09njcoOS",
        "outputId": "fe36b61c-2e01-4bc0-c8de-90b50d0b6760"
      },
      "outputs": [],
      "source": [
        "##transformation of new data\n",
        "scaler.transform(boston.data[0].reshape(1,-1))"
      ]
    },
    {
      "cell_type": "code",
      "execution_count": null,
      "metadata": {
        "id": "51SHyX6jcoOS",
        "outputId": "b33d5527-02d6-41fa-8f5b-62674362074d"
      },
      "outputs": [],
      "source": [
        "regression.predict(scaler.transform(boston.data[0].reshape(1,-1)))"
      ]
    },
    {
      "cell_type": "code",
      "execution_count": null,
      "metadata": {
        "id": "MJSZPTx_coOS",
        "outputId": "166f5341-ae14-4d52-a721-58ad965ec175"
      },
      "outputs": [],
      "source": [
        "dataset.head(1).to_json(orient = 'columns') \n"
      ]
    },
    {
      "cell_type": "markdown",
      "metadata": {
        "id": "4CtO_L2fcoOT"
      },
      "source": [
        "## Pickling The Model file For Deployment"
      ]
    },
    {
      "cell_type": "code",
      "execution_count": null,
      "metadata": {
        "id": "Ii4eSek1coOT"
      },
      "outputs": [],
      "source": [
        "import pickle"
      ]
    },
    {
      "cell_type": "code",
      "execution_count": null,
      "metadata": {
        "id": "J-Oq1lercoOT"
      },
      "outputs": [],
      "source": [
        "pickle.dump(regression,open('regmodel.pkl','wb')) # guardamos el modelo"
      ]
    },
    {
      "cell_type": "code",
      "execution_count": null,
      "metadata": {
        "id": "Rttf1_qocoOT"
      },
      "outputs": [],
      "source": [
        "pickled_model = pickle.load(open('regmodel.pkl','rb')) # cargando el modelo"
      ]
    },
    {
      "cell_type": "code",
      "execution_count": null,
      "metadata": {
        "id": "RJ8FChLacoOT",
        "outputId": "da41d6c8-ae98-4f75-efba-5918bbf36663"
      },
      "outputs": [],
      "source": [
        "## Prediction\n",
        "pickled_model.predict(scaler.transform(boston.data[0].reshape(1,-1)))"
      ]
    },
    {
      "cell_type": "code",
      "execution_count": null,
      "metadata": {
        "id": "uQUJMCMwcoOT"
      },
      "outputs": [],
      "source": []
    },
    {
      "cell_type": "code",
      "execution_count": null,
      "metadata": {
        "colab": {
          "base_uri": "https://localhost:8080/"
        },
        "id": "DHPmFM07coOT",
        "outputId": "db0bc84d-c121-453e-b373-297820ac0526"
      },
      "outputs": [],
      "source": [
        "import os\n",
        "\n",
        "os.listdir('.')"
      ]
    },
    {
      "cell_type": "code",
      "execution_count": null,
      "metadata": {
        "colab": {
          "base_uri": "https://localhost:8080/",
          "height": 17
        },
        "id": "1DEnaVug3lof",
        "outputId": "620811e9-a228-40c5-de67-c43e4fd54978"
      },
      "outputs": [],
      "source": [
        "from google.colab import files\n",
        "files.download('regmodel.pkl')"
      ]
    }
  ],
  "metadata": {
    "colab": {
      "provenance": []
    },
    "kernelspec": {
      "display_name": "Python 3 (ipykernel)",
      "language": "python",
      "name": "python3"
    },
    "language_info": {
      "codemirror_mode": {
        "name": "ipython",
        "version": 3
      },
      "file_extension": ".py",
      "mimetype": "text/x-python",
      "name": "python",
      "nbconvert_exporter": "python",
      "pygments_lexer": "ipython3",
      "version": "3.7.0"
    },
    "vscode": {
      "interpreter": {
        "hash": "4a7241ec6a08cf884868b925f68d7fb15895bfb848fb3fcf860821a8a442ef3e"
      }
    }
  },
  "nbformat": 4,
  "nbformat_minor": 0
}
